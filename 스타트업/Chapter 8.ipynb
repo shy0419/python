{
 "cells": [
  {
   "cell_type": "markdown",
   "metadata": {},
   "source": [
    "# Chapter 8"
   ]
  },
  {
   "cell_type": "markdown",
   "metadata": {},
   "source": [
    "## 1. for 반복문의 기본 형태"
   ]
  },
  {
   "cell_type": "code",
   "execution_count": null,
   "metadata": {},
   "outputs": [],
   "source": []
  },
  {
   "cell_type": "markdown",
   "metadata": {},
   "source": [
    "## 2. 문자열과 for 반복문"
   ]
  },
  {
   "cell_type": "code",
   "execution_count": 3,
   "metadata": {},
   "outputs": [
    {
     "name": "stdout",
     "output_type": "stream",
     "text": [
      "s\n",
      "t\n",
      "a\n",
      "r\n"
     ]
    }
   ],
   "source": [
    "string = 'star'\n",
    "i = 0\n",
    "while i < len(string):\n",
    "    print(string[i])\n",
    "    i += 1"
   ]
  },
  {
   "cell_type": "code",
   "execution_count": 11,
   "metadata": {},
   "outputs": [
    {
     "name": "stdout",
     "output_type": "stream",
     "text": [
      "A\n",
      "L\n",
      "I\n",
      "C\n",
      "E\n"
     ]
    }
   ],
   "source": [
    "# CODE 34\n",
    "\n",
    "name = 'Alice'         \n",
    "for x in name:          # 문자열 name에서 문자 한 개씩 x에 넣고 for 블록 수행 \n",
    "    if x.isupper():     # if c.isupper()==True: 와 같습니다.\n",
    "        print(x)\n",
    "    else:               # x가 대문자가 아니라면, 대문자로 변환해서 출력합니다.\n",
    "        print(x.upper())"
   ]
  },
  {
   "cell_type": "code",
   "execution_count": 13,
   "metadata": {},
   "outputs": [
    {
     "name": "stdout",
     "output_type": "stream",
     "text": [
      "A\n",
      "L\n",
      "I\n",
      "C\n",
      "E\n"
     ]
    }
   ],
   "source": [
    "name = 'AliCe'\n",
    "for x in name:\n",
    "    print(x.upper())"
   ]
  },
  {
   "cell_type": "code",
   "execution_count": 18,
   "metadata": {},
   "outputs": [
    {
     "name": "stdout",
     "output_type": "stream",
     "text": [
      "Enter string : proGRAMMER\n",
      "number of vowles : 3\n",
      "number of consonants : 7\n"
     ]
    }
   ],
   "source": [
    "# CODE 35\n",
    "\n",
    "string = input('Enter string : ')            # 문자열을 입력받습니다.\n",
    "vowel_count = 0                              # 모음의 개수\n",
    "con_count = 0                                # 자음의 개수\n",
    "for s in string:                             # 입력받은 string의 문자가 하나씩 순서대로 s에 저장됩니다.\n",
    "    if s.lower() in 'aeiou':                 # s를 소문자로 바꾸었을 때 'aeiou' 중에 하나인 경우.\n",
    "        vowel_count += 1\n",
    "    else:                                    # s가 자음인 경우\n",
    "        con_count += 1\n",
    "print('number of vowles : {}'.format(vowel_count))     # 결과 출력\n",
    "print('number of consonants : {}'.format(con_count))"
   ]
  },
  {
   "cell_type": "code",
   "execution_count": 1,
   "metadata": {},
   "outputs": [
    {
     "name": "stdout",
     "output_type": "stream",
     "text": [
      "Enter string : heLLo wORld\n",
      "HEllO WorLD\n"
     ]
    }
   ],
   "source": [
    "# CODE 36\n",
    "\n",
    "string = input('Enter string : ')          # 문자열을 입력받습니다.\n",
    "new_string= ''                             # 빈 문자열을 만들어 놓습니다.\n",
    "\n",
    "for ch in string:                          # 문자열 string에서 한 문자씩 ch에 저장하고 루프를 수행합니다.\n",
    "    if ch.islower():                       # ch가 소문자인 경우\n",
    "        new_string += ch.upper()           # 대문자로 변환하여 new_string에 추가합니다.\n",
    "    else:                                  # ch가 대문자인 경우\n",
    "        new_string += ch.lower()           # 소문자로 변환하여 new_string에 추가합니다.\n",
    "print(new_string)"
   ]
  },
  {
   "cell_type": "code",
   "execution_count": 2,
   "metadata": {},
   "outputs": [
    {
     "name": "stdout",
     "output_type": "stream",
     "text": [
      "Enter string : heLLo wORld\n",
      "HEllO WorLD\n"
     ]
    }
   ],
   "source": [
    "string = input('Enter string : ')\n",
    "new_string = string.swapcase()\n",
    "print(new_string)"
   ]
  },
  {
   "cell_type": "markdown",
   "metadata": {},
   "source": [
    "## 3. 리스트와 for 반복문"
   ]
  },
  {
   "cell_type": "code",
   "execution_count": 4,
   "metadata": {},
   "outputs": [
    {
     "name": "stdout",
     "output_type": "stream",
     "text": [
      "red\n",
      "blue\n",
      "white\n"
     ]
    }
   ],
   "source": [
    "for x in ['red', 'blue', 'white']:\n",
    "    print(x)"
   ]
  },
  {
   "cell_type": "code",
   "execution_count": 5,
   "metadata": {},
   "outputs": [
    {
     "name": "stdout",
     "output_type": "stream",
     "text": [
      "Welcome! Paul.\n",
      "Welcome! David.\n",
      "Welcome! Alice.\n",
      "Welcome! Jenny.\n"
     ]
    }
   ],
   "source": [
    "# CODE 37\n",
    "\n",
    "friends = ['Paul', 'David', 'Alice', 'Jenny']\n",
    "\n",
    "for friend in friends:\n",
    "    print('Welcome! {}.'.format(friend))"
   ]
  },
  {
   "cell_type": "code",
   "execution_count": 6,
   "metadata": {},
   "outputs": [
    {
     "name": "stdout",
     "output_type": "stream",
     "text": [
      "Alice In Wonderland\n",
      "Peter Pan\n",
      "Snow White\n",
      "Sleeping Beauty\n",
      "Goldilocks And The Three Bears\n"
     ]
    }
   ],
   "source": [
    "# CODE 38\n",
    "\n",
    "books = ['alice in wonderland',\n",
    "        'peter pan',\n",
    "        'snow white',\n",
    "        'sleeping beauty',\n",
    "        'goldilocks and the three bears']\n",
    "\n",
    "for book in books:\n",
    "    print(book.title())"
   ]
  },
  {
   "cell_type": "code",
   "execution_count": 9,
   "metadata": {},
   "outputs": [
    {
     "name": "stdout",
     "output_type": "stream",
     "text": [
      "longest word : bookshelf\n",
      "length : 9\n"
     ]
    }
   ],
   "source": [
    "# CODE 39\n",
    "\n",
    "words = ['hello', 'computer', 'bookshelf', 'chair', 'bicycle']\n",
    "longest = len(words[0])          # longest - 첫 번째 단어('hello')의 길이를 갖습니다.\n",
    "l_word = words[0]               # l_word - 첫 번째 단어('hello')를 갖습니다.\n",
    "\n",
    "for w in words[1:]:             # words의 두 번째 단어부터 끝까지 차례로 w가 됩니다.\n",
    "    if len(w) > longest:        # w의 길이가 lognest보다 더 길다면\n",
    "        l_word = w              # w를 l_word로 대체합니다.\n",
    "        longest = len(w)        # w의 길이가 longest가 됩니다.\n",
    "        \n",
    "print('longest word : {}'.format(l_word))\n",
    "print('length : {}'.format(longest))"
   ]
  },
  {
   "cell_type": "code",
   "execution_count": 10,
   "metadata": {},
   "outputs": [
    {
     "name": "stdout",
     "output_type": "stream",
     "text": [
      "total : 22\n"
     ]
    }
   ],
   "source": [
    "# CODE 40\n",
    "\n",
    "numbers = [4, 10, 9, -5, 5, 1, 8, 2, -2]\n",
    "total = 0\n",
    "\n",
    "for n in numbers:          # numbers의 원소들을 차례로 n에 저장합니다.\n",
    "    if n % 2 == 0:         # n이 짝수라면 total에 더해 줍니다.\n",
    "        total += n\n",
    "print('total :', total)        \n",
    "        "
   ]
  },
  {
   "cell_type": "code",
   "execution_count": 1,
   "metadata": {},
   "outputs": [
    {
     "name": "stdout",
     "output_type": "stream",
     "text": [
      "What is the capital of Korea?\n",
      "1. Berlin\n",
      "2. Seoul\n",
      "3. Tokyo\n",
      "4. Patis\n",
      "Choose an answer : 2\n",
      "Correct!\n"
     ]
    }
   ],
   "source": [
    "# CODE 41\n",
    "\n",
    "print('What is the capital of Korea?')\n",
    "cities = ['Berlin', 'Seoul', 'Tokyo', 'Patis']\n",
    "\n",
    "no = 1                                        # 일련 번호를 붙이기 위한 변수입니다.\n",
    "for city in cities:                           # 리스트 cities에 대해서 for 반복문을 수행합니다.\n",
    "    print('{}. {}'.format(no, city))          # '번호. 도시'의 형태로 출력합니다.\n",
    "    no += 1                                   # 일련번호를 1 증가시킵니다.\n",
    "    \n",
    "answer = int(input('Choose an answer : '))    # 답을 입력받습니다.\n",
    "if answer == 2:                               # 2번이 답입니다.\n",
    "    print('Correct!')\n",
    "else:\n",
    "    print('Incorrect!')"
   ]
  },
  {
   "cell_type": "markdown",
   "metadata": {},
   "source": [
    "## 4. 튜플과 for 반복문"
   ]
  },
  {
   "cell_type": "code",
   "execution_count": 2,
   "metadata": {},
   "outputs": [
    {
     "name": "stdout",
     "output_type": "stream",
     "text": [
      "100\n",
      "200\n",
      "300\n"
     ]
    }
   ],
   "source": [
    "T = (100, 200, 300)\n",
    "for x in T:\n",
    "    print(x)"
   ]
  },
  {
   "cell_type": "markdown",
   "metadata": {},
   "source": [
    "## 5. 집합과 for 반복문"
   ]
  },
  {
   "cell_type": "code",
   "execution_count": 4,
   "metadata": {},
   "outputs": [
    {
     "name": "stdout",
     "output_type": "stream",
     "text": [
      "baseball is my favorite sports\n",
      "soccer is my favorite sports\n",
      "tennis is my favorite sports\n",
      "basketball is my favorite sports\n"
     ]
    }
   ],
   "source": [
    "sports = {'baseball', 'soccer', 'tennis', 'basketball'}\n",
    "for sport in sports:\n",
    "    print('{} is my favorite sports'.format(sport))"
   ]
  },
  {
   "cell_type": "code",
   "execution_count": 5,
   "metadata": {},
   "outputs": [
    {
     "name": "stdout",
     "output_type": "stream",
     "text": [
      "We both like watermelon.\n",
      "We both like strawberry.\n"
     ]
    }
   ],
   "source": [
    "# CODE 42\n",
    "\n",
    "A = {'apple', 'orange', 'strawberry', 'watermelon'}\n",
    "B = {'strawberry', 'watermelon', 'kiwi'}\n",
    "\n",
    "for fruit in A:         # 집합 A에 있는 원소를 하나씩 변수 fruit에 넣습니다.\n",
    "    if fruit in B:      # 만약에 fruit이 집합 B에도 있는지 확인합니다.\n",
    "        print('We both like {}.'.format(fruit))"
   ]
  },
  {
   "cell_type": "markdown",
   "metadata": {},
   "source": [
    "## 6. 사전과 for 반복문"
   ]
  },
  {
   "cell_type": "code",
   "execution_count": 1,
   "metadata": {},
   "outputs": [
    {
     "name": "stdout",
     "output_type": "stream",
     "text": [
      "name\n",
      "age\n",
      "phone\n"
     ]
    }
   ],
   "source": [
    "info = {'name':'alice',\n",
    "        'age':20,\n",
    "        'phone':'010-111-1111'}\n",
    "\n",
    "for x in info:\n",
    "    print(x)"
   ]
  },
  {
   "cell_type": "markdown",
   "metadata": {},
   "source": [
    "## 7. range() 함수"
   ]
  },
  {
   "cell_type": "code",
   "execution_count": 3,
   "metadata": {},
   "outputs": [],
   "source": [
    "a = range(5)         # a는 range(5)의 반환값"
   ]
  },
  {
   "cell_type": "code",
   "execution_count": 4,
   "metadata": {},
   "outputs": [
    {
     "name": "stdout",
     "output_type": "stream",
     "text": [
      "range(0, 5)\n"
     ]
    }
   ],
   "source": [
    "print(a)"
   ]
  },
  {
   "cell_type": "code",
   "execution_count": 5,
   "metadata": {},
   "outputs": [
    {
     "data": {
      "text/plain": [
       "range"
      ]
     },
     "execution_count": 5,
     "metadata": {},
     "output_type": "execute_result"
    }
   ],
   "source": [
    "type(a)"
   ]
  },
  {
   "cell_type": "code",
   "execution_count": 6,
   "metadata": {},
   "outputs": [
    {
     "data": {
      "text/plain": [
       "[0, 1, 2, 3, 4]"
      ]
     },
     "execution_count": 6,
     "metadata": {},
     "output_type": "execute_result"
    }
   ],
   "source": [
    "list(range(5))"
   ]
  },
  {
   "cell_type": "code",
   "execution_count": 8,
   "metadata": {},
   "outputs": [
    {
     "data": {
      "text/plain": [
       "(0, 1, 2, 3, 4)"
      ]
     },
     "execution_count": 8,
     "metadata": {},
     "output_type": "execute_result"
    }
   ],
   "source": [
    "tuple(range(5))"
   ]
  },
  {
   "cell_type": "code",
   "execution_count": 9,
   "metadata": {},
   "outputs": [
    {
     "data": {
      "text/plain": [
       "{0, 1, 2, 3, 4}"
      ]
     },
     "execution_count": 9,
     "metadata": {},
     "output_type": "execute_result"
    }
   ],
   "source": [
    "set(range(5))"
   ]
  },
  {
   "cell_type": "code",
   "execution_count": 12,
   "metadata": {},
   "outputs": [
    {
     "data": {
      "text/plain": [
       "[0, 1, 2]"
      ]
     },
     "execution_count": 12,
     "metadata": {},
     "output_type": "execute_result"
    }
   ],
   "source": [
    "list(range(3))          # 0부터 2까지의 정수"
   ]
  },
  {
   "cell_type": "code",
   "execution_count": 13,
   "metadata": {},
   "outputs": [
    {
     "data": {
      "text/plain": [
       "[0, 1, 2, 3, 4, 5, 6, 7, 8, 9, 10]"
      ]
     },
     "execution_count": 13,
     "metadata": {},
     "output_type": "execute_result"
    }
   ],
   "source": [
    "list(range(11))         # 0부터 10까지의 정수"
   ]
  },
  {
   "cell_type": "code",
   "execution_count": 14,
   "metadata": {},
   "outputs": [
    {
     "data": {
      "text/plain": [
       "[5, 6, 7, 8, 9]"
      ]
     },
     "execution_count": 14,
     "metadata": {},
     "output_type": "execute_result"
    }
   ],
   "source": [
    "list(range(5, 10))      # 5부터 9까지의 정수"
   ]
  },
  {
   "cell_type": "code",
   "execution_count": 15,
   "metadata": {},
   "outputs": [
    {
     "data": {
      "text/plain": [
       "[2, 5, 8, 11, 14]"
      ]
     },
     "execution_count": 15,
     "metadata": {},
     "output_type": "execute_result"
    }
   ],
   "source": [
    "list(range(2, 15, 3))   # 2부터 14까지 3칸 간격"
   ]
  },
  {
   "cell_type": "code",
   "execution_count": 17,
   "metadata": {},
   "outputs": [
    {
     "data": {
      "text/plain": [
       "[]"
      ]
     },
     "execution_count": 17,
     "metadata": {},
     "output_type": "execute_result"
    }
   ],
   "source": [
    "list(range(10, 5))      # 첫 번째 인수가 두 번째 인수보다 크면 [] 반환"
   ]
  },
  {
   "cell_type": "code",
   "execution_count": 16,
   "metadata": {},
   "outputs": [
    {
     "data": {
      "text/plain": [
       "[10, 8, 6]"
      ]
     },
     "execution_count": 16,
     "metadata": {},
     "output_type": "execute_result"
    }
   ],
   "source": [
    "list(range(10, 5, -2))  # 첫 번째 인수가 두 번째 인수보다 클 때, 세 번째 인수가 음수인 경우에는 결과가 있습니다."
   ]
  },
  {
   "cell_type": "code",
   "execution_count": 22,
   "metadata": {},
   "outputs": [
    {
     "ename": "SyntaxError",
     "evalue": "invalid syntax (<ipython-input-22-97028381b524>, line 1)",
     "output_type": "error",
     "traceback": [
      "\u001b[1;36m  File \u001b[1;32m\"<ipython-input-22-97028381b524>\"\u001b[1;36m, line \u001b[1;32m1\u001b[0m\n\u001b[1;33m    list(range(, 10, 2))\u001b[0m\n\u001b[1;37m               ^\u001b[0m\n\u001b[1;31mSyntaxError\u001b[0m\u001b[1;31m:\u001b[0m invalid syntax\n"
     ]
    }
   ],
   "source": [
    "list(range(, 10, 2))"
   ]
  },
  {
   "cell_type": "code",
   "execution_count": 21,
   "metadata": {},
   "outputs": [
    {
     "ename": "SyntaxError",
     "evalue": "invalid syntax (<ipython-input-21-43d5cc8b74d4>, line 1)",
     "output_type": "error",
     "traceback": [
      "\u001b[1;36m  File \u001b[1;32m\"<ipython-input-21-43d5cc8b74d4>\"\u001b[1;36m, line \u001b[1;32m1\u001b[0m\n\u001b[1;33m    list(range(, 10, 2))\u001b[0m\n\u001b[1;37m               ^\u001b[0m\n\u001b[1;31mSyntaxError\u001b[0m\u001b[1;31m:\u001b[0m invalid syntax\n"
     ]
    }
   ],
   "source": [
    "list(range(10, , 1))"
   ]
  },
  {
   "cell_type": "code",
   "execution_count": 24,
   "metadata": {},
   "outputs": [
    {
     "name": "stdout",
     "output_type": "stream",
     "text": [
      "0 1 2 3 4 "
     ]
    }
   ],
   "source": [
    "for a in range(5):\n",
    "    print(a, end=' ')"
   ]
  },
  {
   "cell_type": "code",
   "execution_count": 25,
   "metadata": {},
   "outputs": [
    {
     "name": "stdout",
     "output_type": "stream",
     "text": [
      "55\n"
     ]
    }
   ],
   "source": [
    "# while\n",
    "\n",
    "total = 0\n",
    "a = 1\n",
    "while a <= 10:\n",
    "    total += a\n",
    "    a += 1\n",
    "print(total)    "
   ]
  },
  {
   "cell_type": "code",
   "execution_count": 26,
   "metadata": {},
   "outputs": [
    {
     "name": "stdout",
     "output_type": "stream",
     "text": [
      "55\n"
     ]
    }
   ],
   "source": [
    "# for\n",
    "\n",
    "total = 0\n",
    "for a in range(11):\n",
    "    total += a\n",
    "print(total)"
   ]
  },
  {
   "cell_type": "code",
   "execution_count": 27,
   "metadata": {},
   "outputs": [
    {
     "name": "stdout",
     "output_type": "stream",
     "text": [
      "75\n"
     ]
    }
   ],
   "source": [
    "total = 0\n",
    "for x in range(10, 16):\n",
    "    total += x\n",
    "print(total)    "
   ]
  },
  {
   "cell_type": "code",
   "execution_count": 28,
   "metadata": {},
   "outputs": [
    {
     "name": "stdout",
     "output_type": "stream",
     "text": [
      "1683\n"
     ]
    }
   ],
   "source": [
    "total = 0\n",
    "\n",
    "for x in range(0, 101, 3):\n",
    "    total += x\n",
    "print(total)    "
   ]
  },
  {
   "cell_type": "code",
   "execution_count": 30,
   "metadata": {},
   "outputs": [
    {
     "name": "stdout",
     "output_type": "stream",
     "text": [
      "Enter one integer : 30\n",
      "1 2 3 5 6 10 15 30 "
     ]
    }
   ],
   "source": [
    "# CODE 43\n",
    "\n",
    "n = int(input('Enter one integer : '))          # 하나의 정수 n을 입력받습니다.\n",
    "for a in range(1, n+1):                         # 변수 a는 1부터 n까지 1씩 증가하면서 루프를 수행합니다.\n",
    "    if n % a == 0:                              # n%a가 0이면 a는 n의 약수입니다.\n",
    "        print(a, end=' ')"
   ]
  },
  {
   "cell_type": "code",
   "execution_count": 31,
   "metadata": {},
   "outputs": [
    {
     "name": "stdout",
     "output_type": "stream",
     "text": [
      "p\n",
      "y\n",
      "t\n",
      "h\n",
      "o\n",
      "n\n"
     ]
    }
   ],
   "source": [
    "name = 'python'\n",
    "for n in name:\n",
    "    print(n)"
   ]
  },
  {
   "cell_type": "code",
   "execution_count": 33,
   "metadata": {},
   "outputs": [
    {
     "name": "stdout",
     "output_type": "stream",
     "text": [
      "0\n",
      "1\n",
      "2\n",
      "3\n",
      "4\n",
      "5\n"
     ]
    }
   ],
   "source": [
    "name = 'python'\n",
    "for x in range(len(name)):\n",
    "    print(x)"
   ]
  },
  {
   "cell_type": "code",
   "execution_count": 34,
   "metadata": {},
   "outputs": [
    {
     "name": "stdout",
     "output_type": "stream",
     "text": [
      "80\n",
      "90\n",
      "88\n",
      "93\n",
      "75\n"
     ]
    }
   ],
   "source": [
    "score = [80, 90, 88, 93, 75]\n",
    "for s in score:\n",
    "    print(s)"
   ]
  },
  {
   "cell_type": "code",
   "execution_count": 36,
   "metadata": {},
   "outputs": [
    {
     "name": "stdout",
     "output_type": "stream",
     "text": [
      "80\n",
      "90\n",
      "88\n",
      "93\n",
      "75\n"
     ]
    }
   ],
   "source": [
    "score = [80, 90, 88, 93, 75]\n",
    "for i in range(len(score)):\n",
    "    print(score[i])"
   ]
  },
  {
   "cell_type": "code",
   "execution_count": 42,
   "metadata": {},
   "outputs": [
    {
     "name": "stdout",
     "output_type": "stream",
     "text": [
      "[80, 90, 88, 93, 75]\n"
     ]
    }
   ],
   "source": [
    "score = [80, 90, 88, 93, 75]\n",
    "for s in score:\n",
    "    s += 5\n",
    "print(score)    "
   ]
  },
  {
   "cell_type": "code",
   "execution_count": 43,
   "metadata": {},
   "outputs": [
    {
     "name": "stdout",
     "output_type": "stream",
     "text": [
      "[85, 95, 93, 98, 80]\n"
     ]
    }
   ],
   "source": [
    "score = [80, 90, 88, 93, 75]\n",
    "for i in range(len(score)):\n",
    "    score[i] += 5\n",
    "print(score)"
   ]
  },
  {
   "cell_type": "markdown",
   "metadata": {},
   "source": [
    "## 8. for 반복문 내에서 break 사용하기"
   ]
  },
  {
   "cell_type": "code",
   "execution_count": 44,
   "metadata": {},
   "outputs": [
    {
     "name": "stdout",
     "output_type": "stream",
     "text": [
      "2\n",
      "9\n",
      "-3\n",
      "8\n"
     ]
    }
   ],
   "source": [
    "for x in [2, 9, -3, 8, 0, -2, 1]:\n",
    "    if x == 0:\n",
    "        break\n",
    "    print(x)"
   ]
  },
  {
   "cell_type": "markdown",
   "metadata": {},
   "source": [
    "## 9. for 반복문 내에서 continue 사용하기"
   ]
  },
  {
   "cell_type": "code",
   "execution_count": 45,
   "metadata": {},
   "outputs": [
    {
     "name": "stdout",
     "output_type": "stream",
     "text": [
      "x : 5\n",
      "x : 7\n",
      "x : 8\n",
      "x : 1\n"
     ]
    }
   ],
   "source": [
    "for x in [5, 7, 0, 8, 0, 1]:\n",
    "    if x == 0:\n",
    "        continue\n",
    "    print('x : {}'.format(x))"
   ]
  },
  {
   "cell_type": "markdown",
   "metadata": {},
   "source": [
    "## 10. for 반복문에서 else 구문 사용하기"
   ]
  },
  {
   "cell_type": "code",
   "execution_count": 46,
   "metadata": {},
   "outputs": [
    {
     "name": "stdout",
     "output_type": "stream",
     "text": [
      "5\n",
      "7\n",
      "3\n",
      "8\n",
      "2\n",
      "1\n",
      "this is else block\n"
     ]
    }
   ],
   "source": [
    "for x in [5, 7, 3, 8, 2, 1]:\n",
    "    if x == 0:\n",
    "        break\n",
    "    print(x)\n",
    "else:\n",
    "    print('this is else block')"
   ]
  },
  {
   "cell_type": "code",
   "execution_count": 47,
   "metadata": {},
   "outputs": [
    {
     "name": "stdout",
     "output_type": "stream",
     "text": [
      "x : 5\n",
      "x : 7\n"
     ]
    }
   ],
   "source": [
    "for x in [5, 7, 0, 8, 0, 1]:\n",
    "    if x == 0:\n",
    "        break\n",
    "    print('x : {}'.format(x))\n",
    "else:\n",
    "    print('this is else block')"
   ]
  },
  {
   "cell_type": "markdown",
   "metadata": {},
   "source": [
    "## 11. 중첩된 for 반복문"
   ]
  },
  {
   "cell_type": "code",
   "execution_count": 48,
   "metadata": {},
   "outputs": [
    {
     "name": "stdout",
     "output_type": "stream",
     "text": [
      "   1    2    3    4    5    6    7    8    9   10 \n",
      "   2    4    6    8   10   12   14   16   18   20 \n",
      "   3    6    9   12   15   18   21   24   27   30 \n",
      "   4    8   12   16   20   24   28   32   36   40 \n",
      "   5   10   15   20   25   30   35   40   45   50 \n",
      "   6   12   18   24   30   36   42   48   54   60 \n",
      "   7   14   21   28   35   42   49   56   63   70 \n",
      "   8   16   24   32   40   48   56   64   72   80 \n",
      "   9   18   27   36   45   54   63   72   81   90 \n",
      "  10   20   30   40   50   60   70   80   90  100 \n"
     ]
    }
   ],
   "source": [
    "for y in range(1, 11):\n",
    "    for x in range(1,11):\n",
    "        print('{:4d}'.format(y*x), end=' ')\n",
    "    print()"
   ]
  },
  {
   "cell_type": "code",
   "execution_count": 49,
   "metadata": {},
   "outputs": [
    {
     "name": "stdout",
     "output_type": "stream",
     "text": [
      "We both like strawberry.\n",
      "We both like tomato.\n"
     ]
    }
   ],
   "source": [
    "# CODE 44\n",
    "\n",
    "A = {'apple', 'orange', 'strawberry', 'watermelon', 'tomato'}\n",
    "B = {'strawberry', 'tomato', 'kiwi'}\n",
    "\n",
    "for fruit1 in A:\n",
    "    for fruit2 in B:\n",
    "        if fruit1 == fruit2:\n",
    "            print('We both like {}.'.format(fruit1))"
   ]
  },
  {
   "cell_type": "code",
   "execution_count": 50,
   "metadata": {},
   "outputs": [
    {
     "name": "stdout",
     "output_type": "stream",
     "text": [
      "Enter one integer : 5\n",
      "[1] :  1 \n",
      "[2] :  1 2 \n",
      "[3] :  1 3 \n",
      "[4] :  1 2 4 \n",
      "[5] :  1 5 \n"
     ]
    }
   ],
   "source": [
    "# CODE 45\n",
    "\n",
    "n = int(input('Enter one integer : '))\n",
    "\n",
    "for a in range(1, n+1):\n",
    "    print('[{}] : '.format(a), end = ' ')\n",
    "    for b in range(1, a+1):\n",
    "        if a % b == 0:\n",
    "            print('{}'.format(b), end = ' ')\n",
    "    print()"
   ]
  },
  {
   "cell_type": "code",
   "execution_count": 52,
   "metadata": {},
   "outputs": [
    {
     "name": "stdout",
     "output_type": "stream",
     "text": [
      "heLLO\n",
      "Alice\n",
      "YMD\n"
     ]
    }
   ],
   "source": [
    "# CODE 46\n",
    "\n",
    "L = ['heLLO123', '010-111-1234Alice', 'Y2018M10D11']\n",
    "\n",
    "for word in L:\n",
    "    new_word = ''\n",
    "    for w in word:\n",
    "        if w.isalpha():\n",
    "            new_word += w\n",
    "    print(new_word)"
   ]
  },
  {
   "cell_type": "code",
   "execution_count": 53,
   "metadata": {},
   "outputs": [
    {
     "name": "stdout",
     "output_type": "stream",
     "text": [
      "heLLO\n",
      "Alice\n",
      "YMD\n"
     ]
    }
   ],
   "source": [
    "# CODE 47\n",
    "# while 안에 for 루프\n",
    "\n",
    "L = ['heLLO123', '010-111-1234Alice', 'Y2018M10D11']\n",
    "i = 0\n",
    "while i < len(L):           # L(0), L(1), L(2), L(3) 차례로 루프를 수행합니다.\n",
    "    new_word = ''           # new_word에 문자만을 찾아서 계속 연결합니다.\n",
    "    for w in L[i]:          # 리스트 L에 저장된 각 단어에 대해서 for 루프를 수행합니다.\n",
    "        if w.isalpha():\n",
    "            new_word += w\n",
    "    print(new_word)\n",
    "    i += 1"
   ]
  },
  {
   "cell_type": "code",
   "execution_count": 55,
   "metadata": {},
   "outputs": [
    {
     "name": "stdout",
     "output_type": "stream",
     "text": [
      "heLLO\n",
      "Alice\n",
      "YMD\n"
     ]
    }
   ],
   "source": [
    "# CODE 47\n",
    "# for 안에 while 루프\n",
    "\n",
    "L = ['heLLO123', '010-111-1234Alice', 'Y2018M10D11']\n",
    "\n",
    "for word in L:               # L에 저장된 단어들이 하나씩 word가 됩니다.\n",
    "    new_word = ''\n",
    "    i = 0\n",
    "    while i < len(word):\n",
    "        if word[i].isalpha():\n",
    "            new_word += word[i]\n",
    "        i += 1\n",
    "    print(new_word)"
   ]
  },
  {
   "cell_type": "markdown",
   "metadata": {},
   "source": [
    "## 12. reversed() 함수에 대한 for 반복문"
   ]
  },
  {
   "cell_type": "markdown",
   "metadata": {},
   "source": [
    "#### 문자열에 reversed() 함수 적용하기"
   ]
  },
  {
   "cell_type": "code",
   "execution_count": 57,
   "metadata": {},
   "outputs": [],
   "source": [
    "name = 'Alice'"
   ]
  },
  {
   "cell_type": "code",
   "execution_count": 58,
   "metadata": {},
   "outputs": [
    {
     "data": {
      "text/plain": [
       "<reversed at 0x1a6064be518>"
      ]
     },
     "execution_count": 58,
     "metadata": {},
     "output_type": "execute_result"
    }
   ],
   "source": [
    "reversed(name)"
   ]
  },
  {
   "cell_type": "code",
   "execution_count": 59,
   "metadata": {},
   "outputs": [
    {
     "data": {
      "text/plain": [
       "['e', 'c', 'i', 'l', 'A']"
      ]
     },
     "execution_count": 59,
     "metadata": {},
     "output_type": "execute_result"
    }
   ],
   "source": [
    "list(reversed(name))"
   ]
  },
  {
   "cell_type": "code",
   "execution_count": 60,
   "metadata": {},
   "outputs": [
    {
     "data": {
      "text/plain": [
       "('e', 'c', 'i', 'l', 'A')"
      ]
     },
     "execution_count": 60,
     "metadata": {},
     "output_type": "execute_result"
    }
   ],
   "source": [
    "tuple(reversed(name))"
   ]
  },
  {
   "cell_type": "code",
   "execution_count": 62,
   "metadata": {},
   "outputs": [
    {
     "name": "stdout",
     "output_type": "stream",
     "text": [
      "ecilA"
     ]
    }
   ],
   "source": [
    "name = 'Alice'\n",
    "\n",
    "for c in reversed(name):\n",
    "    print(c, end = '')"
   ]
  },
  {
   "cell_type": "markdown",
   "metadata": {},
   "source": [
    "#### 리스트에 reversed() 함수 적용하기"
   ]
  },
  {
   "cell_type": "code",
   "execution_count": 63,
   "metadata": {},
   "outputs": [],
   "source": [
    "score = [80, 90, 93, 77]"
   ]
  },
  {
   "cell_type": "code",
   "execution_count": 64,
   "metadata": {},
   "outputs": [
    {
     "data": {
      "text/plain": [
       "<list_reverseiterator at 0x1a6064369b0>"
      ]
     },
     "execution_count": 64,
     "metadata": {},
     "output_type": "execute_result"
    }
   ],
   "source": [
    "reversed(score)"
   ]
  },
  {
   "cell_type": "code",
   "execution_count": 65,
   "metadata": {},
   "outputs": [
    {
     "data": {
      "text/plain": [
       "[77, 93, 90, 80]"
      ]
     },
     "execution_count": 65,
     "metadata": {},
     "output_type": "execute_result"
    }
   ],
   "source": [
    "list(reversed(score))"
   ]
  },
  {
   "cell_type": "code",
   "execution_count": 67,
   "metadata": {},
   "outputs": [
    {
     "data": {
      "text/plain": [
       "(77, 93, 90, 80)"
      ]
     },
     "execution_count": 67,
     "metadata": {},
     "output_type": "execute_result"
    }
   ],
   "source": [
    "tuple(reversed(score))"
   ]
  },
  {
   "cell_type": "code",
   "execution_count": 68,
   "metadata": {},
   "outputs": [
    {
     "name": "stdout",
     "output_type": "stream",
     "text": [
      "77 93 90 80 "
     ]
    }
   ],
   "source": [
    "score = [80, 90, 93, 77]\n",
    "for s in reversed(score):\n",
    "    print(s, end = ' ')"
   ]
  },
  {
   "cell_type": "markdown",
   "metadata": {},
   "source": [
    "#### 튜플에 reversed() 함수 적용하기"
   ]
  },
  {
   "cell_type": "code",
   "execution_count": 71,
   "metadata": {},
   "outputs": [],
   "source": [
    "subjects = ('korean', 'english', 'math')"
   ]
  },
  {
   "cell_type": "code",
   "execution_count": 72,
   "metadata": {},
   "outputs": [
    {
     "data": {
      "text/plain": [
       "<reversed at 0x1a6064bef28>"
      ]
     },
     "execution_count": 72,
     "metadata": {},
     "output_type": "execute_result"
    }
   ],
   "source": [
    "reversed(subjects)"
   ]
  },
  {
   "cell_type": "code",
   "execution_count": 73,
   "metadata": {},
   "outputs": [
    {
     "data": {
      "text/plain": [
       "['math', 'english', 'korean']"
      ]
     },
     "execution_count": 73,
     "metadata": {},
     "output_type": "execute_result"
    }
   ],
   "source": [
    "list(reversed(subjects))"
   ]
  },
  {
   "cell_type": "code",
   "execution_count": 74,
   "metadata": {},
   "outputs": [
    {
     "data": {
      "text/plain": [
       "('math', 'english', 'korean')"
      ]
     },
     "execution_count": 74,
     "metadata": {},
     "output_type": "execute_result"
    }
   ],
   "source": [
    "tuple(reversed(subjects))"
   ]
  },
  {
   "cell_type": "code",
   "execution_count": 75,
   "metadata": {},
   "outputs": [
    {
     "name": "stdout",
     "output_type": "stream",
     "text": [
      "math english korean "
     ]
    }
   ],
   "source": [
    "subjects = ('korean', 'english', 'math')\n",
    "\n",
    "for sub in reversed(subjects):\n",
    "    print(sub, end = ' ')"
   ]
  },
  {
   "cell_type": "markdown",
   "metadata": {},
   "source": [
    "## 13. 정리"
   ]
  },
  {
   "cell_type": "markdown",
   "metadata": {},
   "source": [
    "# 프로그래밍 연습문제"
   ]
  },
  {
   "cell_type": "code",
   "execution_count": 76,
   "metadata": {},
   "outputs": [
    {
     "name": "stdout",
     "output_type": "stream",
     "text": [
      "Enter one string : programming\n",
      "Enter one character : m\n",
      "count : 2\n"
     ]
    }
   ],
   "source": [
    "# 연습문제 25\n",
    "\n",
    "word = input('Enter one string : ')\n",
    "ch = input('Enter one character : ')\n",
    "\n",
    "count = 0\n",
    "for w in word:\n",
    "    if w == ch:\n",
    "        count += 1\n",
    "print('count : {}'.format(count))"
   ]
  },
  {
   "cell_type": "code",
   "execution_count": 1,
   "metadata": {},
   "outputs": [
    {
     "name": "stdout",
     "output_type": "stream",
     "text": [
      "Enter one string : hello123**\n",
      "result : 123**\n"
     ]
    }
   ],
   "source": [
    "# 연습문제 26\n",
    "\n",
    "string = input('Enter one string : ')\n",
    "new_string = ''\n",
    "\n",
    "for c in string:\n",
    "    if not c.isalpha():\n",
    "        new_string += c\n",
    "        \n",
    "print('result : {}'.format(new_string))        "
   ]
  },
  {
   "cell_type": "code",
   "execution_count": 3,
   "metadata": {},
   "outputs": [
    {
     "name": "stdout",
     "output_type": "stream",
     "text": [
      "L : [90, 90, 88, 92, 73, 100, 77, 80, 95]\n",
      "count : 5\n"
     ]
    }
   ],
   "source": [
    "# 연습문제 27\n",
    "\n",
    "L = [90, 90, 88, 92, 73, 100, 77, 80, 95]\n",
    "count = 0\n",
    "\n",
    "for score in L:\n",
    "    if score >= 90:\n",
    "        count += 1\n",
    "print('L : {}'.format(L))\n",
    "print('count : {}'.format(count))        "
   ]
  },
  {
   "cell_type": "code",
   "execution_count": 5,
   "metadata": {},
   "outputs": [
    {
     "name": "stdout",
     "output_type": "stream",
     "text": [
      "Enter a : 9\n",
      "Enter b : 20\n",
      "180 360 540 720 900 "
     ]
    }
   ],
   "source": [
    "# 연습문제 28\n",
    "\n",
    "a = int(input('Enter a : '))\n",
    "b = int(input('Enter b : '))\n",
    "for x in range(1, 1001):\n",
    "    if x % a == 0 and x % b == 0:\n",
    "        print(x, end = ' ')"
   ]
  },
  {
   "cell_type": "code",
   "execution_count": 6,
   "metadata": {},
   "outputs": [
    {
     "name": "stdout",
     "output_type": "stream",
     "text": [
      "Enter word to find : apple\n",
      "0 - apple\n",
      "1 - APPle\n",
      "6 - appLE\n"
     ]
    }
   ],
   "source": [
    "# 연습문제 29\n",
    "\n",
    "L = ['apple', 'APPle', 'Melon', 'melon', 'Grape', 'kiwi', 'appLE', 'Kiwi']\n",
    "word = input('Enter word to find : ')\n",
    "\n",
    "for i in range(len(L)):\n",
    "    if L[i].lower() == word:\n",
    "        print('{} - {}'.format(i, L[i]))"
   ]
  },
  {
   "cell_type": "code",
   "execution_count": 8,
   "metadata": {},
   "outputs": [
    {
     "name": "stdout",
     "output_type": "stream",
     "text": [
      "Enter first word : beaver\n",
      "Enter second word : weaver\n",
      "e is at 1\n",
      "a is at 2\n",
      "v is at 3\n",
      "e is at 4\n",
      "r is at 5\n"
     ]
    }
   ],
   "source": [
    "# 연습문제 30\n",
    "\n",
    "word1 = input('Enter first word : ')\n",
    "word2 = input('Enter second word : ')\n",
    "\n",
    "for i in range(len(word1)):\n",
    "    if word1[i] == word2[i]:\n",
    "        print('{} is at {}'.format(word1[i], i))"
   ]
  },
  {
   "cell_type": "code",
   "execution_count": 17,
   "metadata": {},
   "outputs": [
    {
     "name": "stdout",
     "output_type": "stream",
     "text": [
      "Enter n : 7\n",
      "7 is not perfect square number\n"
     ]
    }
   ],
   "source": [
    "# 연습문제 31\n",
    "\n",
    "n = int(input('Enter n : '))\n",
    "\n",
    "flag = False\n",
    "for i in range(1, n+1):\n",
    "    if i ** 2 == n:\n",
    "        flag = True\n",
    "        break\n",
    "if flag:\n",
    "    print(n, 'is perfect square number of', i)\n",
    "else:\n",
    "    print(n, 'is not perfect square number')"
   ]
  }
 ],
 "metadata": {
  "kernelspec": {
   "display_name": "Python 3",
   "language": "python",
   "name": "python3"
  },
  "language_info": {
   "codemirror_mode": {
    "name": "ipython",
    "version": 3
   },
   "file_extension": ".py",
   "mimetype": "text/x-python",
   "name": "python",
   "nbconvert_exporter": "python",
   "pygments_lexer": "ipython3",
   "version": "3.7.3"
  }
 },
 "nbformat": 4,
 "nbformat_minor": 2
}
